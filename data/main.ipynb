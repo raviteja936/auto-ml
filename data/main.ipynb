{
 "cells": [
  {
   "cell_type": "code",
   "execution_count": 1,
   "metadata": {},
   "outputs": [],
   "source": [
    "import tensorflow as tf\n",
    "import numpy as np\n",
    "import sys"
   ]
  },
  {
   "cell_type": "code",
   "execution_count": 6,
   "metadata": {},
   "outputs": [],
   "source": [
    "%run cli_parser.ipynb\n",
    "%run model.ipynb\n",
    "%run pipeline.ipynb\n",
    "%run utils.ipynb"
   ]
  },
  {
   "cell_type": "code",
   "execution_count": 3,
   "metadata": {},
   "outputs": [],
   "source": [
    "sys.argv=['main.py','-p', './params.json']"
   ]
  },
  {
   "cell_type": "code",
   "execution_count": 4,
   "metadata": {},
   "outputs": [],
   "source": [
    "args = CliArgs(sys.argv[1:])\n",
    "params = args.get_params()\n",
    "out_path = args.get_out_path()"
   ]
  },
  {
   "cell_type": "code",
   "execution_count": 5,
   "metadata": {},
   "outputs": [
    {
     "name": "stdout",
     "output_type": "stream",
     "text": [
      "./params.json/experiments/run_1\n"
     ]
    }
   ],
   "source": [
    "train_inputs, eval_inputs = DataPipe(params, out_path, \"train\")"
   ]
  },
  {
   "cell_type": "code",
   "execution_count": 122,
   "metadata": {},
   "outputs": [],
   "source": []
  },
  {
   "cell_type": "code",
   "execution_count": 31,
   "metadata": {},
   "outputs": [],
   "source": []
  },
  {
   "cell_type": "code",
   "execution_count": 120,
   "metadata": {},
   "outputs": [],
   "source": []
  },
  {
   "cell_type": "code",
   "execution_count": 126,
   "metadata": {},
   "outputs": [],
   "source": [
    "args = CliArgs(args)\n",
    "params = args.get_params\n",
    "build_path = args.get_build_path\n",
    "train_inputs, eval_inputs = DataPipe(params, build_path, \"train\")\n",
    "# model = Model(params)\n",
    "# build(model, datasets, params, build_path)\n",
    "\n",
    "# Define the models (2 different set of nodes that share weights for train and eval)\n",
    "train_model_spec = model_fn(\"train\", train_inputs, params)\n",
    "eval_model_spec = model_fn(\"eval\", eval_inputs, params, reuse=True)\n",
    "\n",
    "# Train the model\n",
    "train_and_evaluate(train_model_spec, eval_model_spec, args.model_dir, params, args.restore_dir)\n"
   ]
  }
 ],
 "metadata": {
  "kernelspec": {
   "display_name": "Python 3",
   "language": "python",
   "name": "python3"
  },
  "language_info": {
   "codemirror_mode": {
    "name": "ipython",
    "version": 3
   },
   "file_extension": ".py",
   "mimetype": "text/x-python",
   "name": "python",
   "nbconvert_exporter": "python",
   "pygments_lexer": "ipython3",
   "version": "3.6.9"
  }
 },
 "nbformat": 4,
 "nbformat_minor": 2
}
