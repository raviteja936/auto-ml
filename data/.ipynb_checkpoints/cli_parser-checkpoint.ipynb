{
 "cells": [
  {
   "cell_type": "code",
   "execution_count": 1,
   "metadata": {},
   "outputs": [],
   "source": [
    "import argparse\n",
    "import os\n",
    "import json"
   ]
  },
  {
   "cell_type": "code",
   "execution_count": 2,
   "metadata": {},
   "outputs": [],
   "source": [
    "class Params():\n",
    "    def __init__(self, path):\n",
    "        with open(path, \"r\") as json_file:\n",
    "            self.__dict__ = json.load(json_file)"
   ]
  },
  {
   "cell_type": "code",
   "execution_count": 8,
   "metadata": {},
   "outputs": [],
   "source": [
    "class CliArgs():\n",
    "    def __init__(self, args):\n",
    "        self.parser = argparse.ArgumentParser()\n",
    "\n",
    "        self.parser.add_argument(\n",
    "            \"-p\",\n",
    "            \"--params_path\",\n",
    "            help=\"path to params.json file path that contains input parameters\"\n",
    "        )\n",
    "\n",
    "        self.parser.add_argument(\n",
    "            \"-o\",\n",
    "            \"--out_path\",\n",
    "            help=\"path to directory to store output from the run\",\n",
    "            action=\"store_true\"\n",
    "        )\n",
    "        \n",
    "        self.args = self.parser.parse_args(args)\n",
    "\n",
    "    def get_params(self):\n",
    "        assert os.path.isfile(self.args.params_path), \"No json configuration file found at {}\".format(self.args.params_path)\n",
    "        params = Params(self.args.params_path)\n",
    "        return params\n",
    "\n",
    "    def get_out_path(self):\n",
    "        out_path = self.args.out_path\n",
    "        if out_path is False:\n",
    "            if os.path.isdir(os.path.join(self.args.params_path, \"experiments\")):\n",
    "                return (os.path.join(self.args.params_path, \"experiments\", \"run_%s\") % len(next(os.walk('examples'))[1]))\n",
    "            return (os.path.join(self.args.params_path, \"experiments\", \"run_1\"))\n",
    "        return out_path"
   ]
  }
 ],
 "metadata": {
  "kernelspec": {
   "display_name": "Python 3",
   "language": "python",
   "name": "python3"
  },
  "language_info": {
   "codemirror_mode": {
    "name": "ipython",
    "version": 3
   },
   "file_extension": ".py",
   "mimetype": "text/x-python",
   "name": "python",
   "nbconvert_exporter": "python",
   "pygments_lexer": "ipython3",
   "version": "3.6.9"
  }
 },
 "nbformat": 4,
 "nbformat_minor": 2
}
