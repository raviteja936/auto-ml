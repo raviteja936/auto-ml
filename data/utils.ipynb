{
 "cells": [
  {
   "cell_type": "code",
   "execution_count": null,
   "metadata": {},
   "outputs": [],
   "source": [
    "import pandas as pd\n",
    "import tensorflow as tf\n",
    "import numpy as np\n",
    "import csv    \n",
    "import json"
   ]
  },
  {
   "cell_type": "code",
   "execution_count": null,
   "metadata": {},
   "outputs": [],
   "source": [
    "def get_file_layout(path):\n",
    "    with open(path, 'r') as infile:\n",
    "        reader = csv.DictReader(infile)\n",
    "        fieldnames = reader.fieldnames\n",
    "    return fieldnames"
   ]
  },
  {
   "cell_type": "code",
   "execution_count": null,
   "metadata": {},
   "outputs": [],
   "source": [
    "def get_columns(layout, path):\n",
    "#     file_layout = get_file_layout(path)\n",
    "#     cols = {}\n",
    "\n",
    "#     for typ, feat_list in layout.items():\n",
    "#         if typ == \"num_cols\":\n",
    "#             for idx, col_type in enumerate(feat_list[\"dtype\"]):\n",
    "#                 if col_type == \"int32\" or col_type == \"int64\":\n",
    "#                     cols.setdefault(\"int_cols\", []).append(file_layout.index(feat_list[\"col\"][idx]))\n",
    "#                 if col_type == \"float32\" or  col_type == \"float64\":\n",
    "#                     cols.setdefault(\"int_cols\", []).append(file_layout.index(feat_list[\"col\"][idx]))\n",
    "\n",
    "#         if typ == \"cat_cols\":\n",
    "#             for idx, col_type in enumerate(feat_list[\"dtype\"]):\n",
    "#                 cols.setdefault(\"float_cols\", []).append(file_layout.index(feat_list[\"col\"][idx]))\n",
    "\n",
    "#         if typ == \"target\":\n",
    "#             for idx, col_type in enumerate(feat_list[\"dtype\"]):\n",
    "#                 cols.setdefault(\"target\", []).append(file_layout.index(feat_list[\"col\"][idx]))\n",
    "\n",
    "                \n",
    "    return layout"
   ]
  },
  {
   "cell_type": "code",
   "execution_count": null,
   "metadata": {},
   "outputs": [],
   "source": [
    "# with tf.python_io.TFRecordWriter(outfile) as writer:\n",
    "#     for row in csv:\n",
    "#         ## READ FROM CSV ##\n",
    "\n",
    "#         # the first col is label, all rest are feats\n",
    "#         label = int(row[0])\n",
    "#         # convert each floating point feature from char to float to bytes\n",
    "#         feats = np.array([float(feat) for feat in row[1:]]).tostring()\n",
    "\n",
    "#         ## SAVE TO TFRECORDS ##\n",
    "\n",
    "#         # A tfrecords file is made up of tf.train.Example objects, and each of these\n",
    "#         # tf.train.Examples contains one or more \"features\"\n",
    "#         # use SequenceExample if you've got sequential data\n",
    "\n",
    "#         example = tf.train.Example()\n",
    "#         example.features.feature[\"feats\"].bytes_list.value.append(feats)\n",
    "#         example.features.feature[\"label\"].int64_list.value.append(label)\n",
    "#         writer.write(example.SerializeToString())"
   ]
  },
  {
   "cell_type": "code",
   "execution_count": null,
   "metadata": {},
   "outputs": [],
   "source": [
    "# file_layout = get_file_layout((\"./train.csv\"))\n",
    "# cols = {}\n",
    "\n",
    "# for typ, feat_list in params.layout.items():\n",
    "#     if typ == \"num_cols\":\n",
    "#         for idx, col_type in enumerate(feat_list[\"dtype\"]):\n",
    "#             print (col_type, feat_list[\"col\"][idx])\n",
    "#             if col_type == \"int32\" or col_type == \"int64\":\n",
    "#                 cols.setdefault(\"int_cols\", []).append(file_layout.index(feat_list[\"col\"][idx]))\n",
    "#             if col_type == \"float32\" or  col_type == \"float64\":\n",
    "#                 cols.setdefault(\"int_cols\", []).append(file_layout.index(feat_list[\"col\"][idx]))\n",
    "    \n",
    "#     if typ == \"cat_cols\":\n",
    "#         for idx, col_type in enumerate(feat_list[\"dtype\"]):\n",
    "#             cols.setdefault(\"float_cols\", []).append(file_layout.index(feat_list[\"col\"][idx]))\n",
    "\n",
    "# print (cols)"
   ]
  },
  {
   "cell_type": "code",
   "execution_count": null,
   "metadata": {},
   "outputs": [],
   "source": [
    "\n",
    "# feature = {}\n",
    "\n",
    "#     for feat in use_col:\n",
    "#         if dtype[feat] == \"int32\":\n",
    "#             feature[feat] = _int64_feature(value)"
   ]
  }
 ],
 "metadata": {
  "kernelspec": {
   "display_name": "Python 3",
   "language": "python",
   "name": "python3"
  },
  "language_info": {
   "codemirror_mode": {
    "name": "ipython",
    "version": 3
   },
   "file_extension": ".py",
   "mimetype": "text/x-python",
   "name": "python",
   "nbconvert_exporter": "python",
   "pygments_lexer": "ipython3",
   "version": "3.6.9"
  }
 },
 "nbformat": 4,
 "nbformat_minor": 2
}
